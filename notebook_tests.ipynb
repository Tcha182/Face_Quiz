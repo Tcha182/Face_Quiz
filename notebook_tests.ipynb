{
 "cells": [
  {
   "cell_type": "code",
   "execution_count": 22,
   "metadata": {},
   "outputs": [],
   "source": [
    "import pandas as pd"
   ]
  },
  {
   "cell_type": "code",
   "execution_count": 23,
   "metadata": {},
   "outputs": [],
   "source": [
    "df = pd.read_excel(\"DATA/People_list.xlsx\")\n",
    "#df = df[df[\"Category\"] == \"Activists\"]"
   ]
  },
  {
   "cell_type": "code",
   "execution_count": 24,
   "metadata": {},
   "outputs": [],
   "source": [
    "asked_df = pd.DataFrame(columns= df.columns)"
   ]
  },
  {
   "cell_type": "code",
   "execution_count": 25,
   "metadata": {},
   "outputs": [],
   "source": [
    "category_counts = df['Category'].value_counts()\n",
    "total_counts = category_counts.sum()\n",
    "unique_categories = category_counts.index.tolist()\n",
    "categories_share = (category_counts / total_counts).tolist()"
   ]
  },
  {
   "cell_type": "code",
   "execution_count": 26,
   "metadata": {},
   "outputs": [],
   "source": [
    "difficulty = 1"
   ]
  },
  {
   "cell_type": "code",
   "execution_count": 27,
   "metadata": {},
   "outputs": [],
   "source": [
    "def probabilistic_round_selection(possible_questions, asked_df, unique_categories, categories_share, difficulty):\n",
    "    round_questions = pd.DataFrame()\n",
    "    selected_questions = pd.DataFrame()\n",
    "\n",
    "    patterns =  [[0.6,0.3,0.1],[0.4,0.4,0.2],[0.2,0.5,0.3]]\n",
    "\n",
    "    difficulty_levels = ['Level 1', 'Level 2', 'Level 3']  # Adjust as necessary\n",
    "    difficulty_share = patterns[difficulty - 1]  # This should be a list containing share of each level e.g [0.6, 0.3, 0.1] for ['Level 1', 'Level 2', 'Level 3']\n",
    "    num_questions = len(possible_questions)\n",
    "\n",
    "    for i, category in enumerate(unique_categories):\n",
    "        for j, level in enumerate(difficulty_levels):\n",
    "            category_level_share = categories_share[i] * difficulty_share[j]\n",
    "\n",
    "            category_questions = possible_questions[(possible_questions['Category'] == category) & (possible_questions['Fame_Level'] == level)]\n",
    "            asked_questions = asked_df[(asked_df['Category'] == category) & (asked_df['Fame_Level'] == level)]\n",
    "\n",
    "            if len(category_questions) > 0:\n",
    "                question_df = category_questions.sample(frac = category_level_share, replace = False)\n",
    "                round_questions = pd.concat([round_questions, question_df])\n",
    "\n",
    "                asked_df = pd.concat([asked_df, question_df])\n",
    "                selected_questions = pd.concat([selected_questions, question_df])\n",
    "\n",
    "            elif len(asked_questions) > 0:\n",
    "                rollback_questions = asked_df[(asked_df['Category'] == category) & (asked_df['Fame_Level'] == level)]\n",
    "                question_df = rollback_questions.sample(frac = category_level_share, replace = False)\n",
    "\n",
    "                round_questions = pd.concat([round_questions, question_df])\n",
    "\n",
    "                # Drop rolled back questions from asked_df\n",
    "                asked_df.drop(rollback_questions.index, inplace = True)\n",
    "                selected_questions = pd.concat([selected_questions, question_df])\n",
    "\n",
    "    return round_questions, asked_df, selected_questions"
   ]
  },
  {
   "cell_type": "code",
   "execution_count": 28,
   "metadata": {},
   "outputs": [],
   "source": [
    "a, b, c = probabilistic_round_selection(df, asked_df, unique_categories, categories_share, difficulty)"
   ]
  },
  {
   "cell_type": "code",
   "execution_count": 30,
   "metadata": {},
   "outputs": [],
   "source": [
    "possible_questions = df\n",
    "\n",
    "\n",
    "round_questions = pd.DataFrame()\n",
    "selected_questions = pd.DataFrame()\n",
    "\n",
    "patterns =  [[0.6,0.3,0.1],[0.4,0.4,0.2],[0.2,0.5,0.3]]\n",
    "\n",
    "difficulty_levels = ['Level 1', 'Level 2', 'Level 3']  # Adjust as necessary\n",
    "difficulty_share = patterns[difficulty - 1]  # This should be a list containing share of each level e.g [0.6, 0.3, 0.1] for ['Level 1', 'Level 2', 'Level 3']\n",
    "num_questions = len(possible_questions)\n",
    "\n",
    "for i, category in enumerate(unique_categories):\n",
    "    for j, level in enumerate(difficulty_levels):\n",
    "        category_level_share = categories_share[i] * difficulty_share[j]\n",
    "\n",
    "        category_questions = possible_questions[(possible_questions['Category'] == category) & (possible_questions['Fame_Level'] == level)]\n",
    "        asked_questions = asked_df[(asked_df['Category'] == category) & (asked_df['Fame_Level'] == level)]\n",
    "\n",
    "        if len(category_questions) > 0:\n",
    "            question_df = category_questions.sample(frac = category_level_share, replace = False)\n",
    "            round_questions = pd.concat([round_questions, question_df])\n",
    "\n",
    "            asked_df = pd.concat([asked_df, question_df])\n",
    "            selected_questions = pd.concat([selected_questions, question_df])\n",
    "\n",
    "        elif len(asked_questions) > 0:\n",
    "            rollback_questions = asked_df[(asked_df['Category'] == category) & (asked_df['Fame_Level'] == level)]\n",
    "            question_df = rollback_questions.sample(frac = category_level_share, replace = False)\n",
    "\n",
    "            round_questions = pd.concat([round_questions, question_df])\n",
    "\n",
    "            # Drop rolled back questions from asked_df\n",
    "            asked_df.drop(rollback_questions.index, inplace = True)\n",
    "            selected_questions = pd.concat([selected_questions, question_df])\n",
    "\n",
    "\n"
   ]
  }
 ],
 "metadata": {
  "kernelspec": {
   "display_name": "base",
   "language": "python",
   "name": "python3"
  },
  "language_info": {
   "codemirror_mode": {
    "name": "ipython",
    "version": 3
   },
   "file_extension": ".py",
   "mimetype": "text/x-python",
   "name": "python",
   "nbconvert_exporter": "python",
   "pygments_lexer": "ipython3",
   "version": "3.11.3"
  },
  "orig_nbformat": 4
 },
 "nbformat": 4,
 "nbformat_minor": 2
}
